{
  "nbformat": 4,
  "nbformat_minor": 0,
  "metadata": {
    "colab": {
      "provenance": []
    },
    "kernelspec": {
      "name": "python3",
      "display_name": "Python 3"
    },
    "language_info": {
      "name": "python"
    }
  },
  "cells": [
    {
      "cell_type": "code",
      "execution_count": 3,
      "metadata": {
        "id": "A97lzrFo_p1A"
      },
      "outputs": [],
      "source": [
        "import  numpy as np\n",
        "from sklearn.model_selection import train_test_split\n",
        "import matplotlib.pyplot as plt\n",
        "import seaborn as sns\n",
        "import pandas as pd\n",
        "%matplotlib inline\n",
        "import warnings\n",
        "import csv\n",
        "warnings.filterwarnings('ignore')\n",
        "pd.pandas.set_option('display.max_columns',None)"
      ]
    },
    {
      "cell_type": "code",
      "source": [
        "df=pd.read_excel(\"/content/AirQualityUCI.xlsx\")\n",
        "print(df)"
      ],
      "metadata": {
        "colab": {
          "base_uri": "https://localhost:8080/"
        },
        "id": "dOGmLiMlLa0R",
        "outputId": "c5b79d44-9269-496e-de09-dd05e9206a72"
      },
      "execution_count": 4,
      "outputs": [
        {
          "output_type": "stream",
          "name": "stdout",
          "text": [
            "           Date      Time  CO(GT)  PT08.S1(CO)  NMHC(GT)   C6H6(GT)  \\\n",
            "0    2004-03-10  18:00:00     2.6      1360.00       150  11.881723   \n",
            "1    2004-03-10  19:00:00     2.0      1292.25       112   9.397165   \n",
            "2    2004-03-10  20:00:00     2.2      1402.00        88   8.997817   \n",
            "3    2004-03-10  21:00:00     2.2      1375.50        80   9.228796   \n",
            "4    2004-03-10  22:00:00     1.6      1272.25        51   6.518224   \n",
            "...         ...       ...     ...          ...       ...        ...   \n",
            "9352 2005-04-04  10:00:00     3.1      1314.25      -200  13.529605   \n",
            "9353 2005-04-04  11:00:00     2.4      1162.50      -200  11.355157   \n",
            "9354 2005-04-04  12:00:00     2.4      1142.00      -200  12.374538   \n",
            "9355 2005-04-04  13:00:00     2.1      1002.50      -200   9.547187   \n",
            "9356 2005-04-04  14:00:00     2.2      1070.75      -200  11.932060   \n",
            "\n",
            "      PT08.S2(NMHC)  NOx(GT)  PT08.S3(NOx)  NO2(GT)  PT08.S4(NO2)  \\\n",
            "0           1045.50    166.0       1056.25    113.0       1692.00   \n",
            "1            954.75    103.0       1173.75     92.0       1558.75   \n",
            "2            939.25    131.0       1140.00    114.0       1554.50   \n",
            "3            948.25    172.0       1092.00    122.0       1583.75   \n",
            "4            835.50    131.0       1205.00    116.0       1490.00   \n",
            "...             ...      ...           ...      ...           ...   \n",
            "9352        1101.25    471.7        538.50    189.8       1374.25   \n",
            "9353        1027.00    353.3        603.75    179.2       1263.50   \n",
            "9354        1062.50    293.0        603.25    174.7       1240.75   \n",
            "9355         960.50    234.5        701.50    155.7       1041.00   \n",
            "9356        1047.25    265.2        654.00    167.7       1128.50   \n",
            "\n",
            "      PT08.S5(O3)       T         RH        AH  \n",
            "0         1267.50  13.600  48.875001  0.757754  \n",
            "1          972.25  13.300  47.700000  0.725487  \n",
            "2         1074.00  11.900  53.975000  0.750239  \n",
            "3         1203.25  11.000  60.000000  0.786713  \n",
            "4         1110.00  11.150  59.575001  0.788794  \n",
            "...           ...     ...        ...       ...  \n",
            "9352      1728.50  21.850  29.250000  0.756824  \n",
            "9353      1269.00  24.325  23.725000  0.711864  \n",
            "9354      1092.00  26.900  18.350000  0.640649  \n",
            "9355       769.75  28.325  13.550000  0.513866  \n",
            "9356       816.00  28.500  13.125000  0.502804  \n",
            "\n",
            "[9357 rows x 15 columns]\n"
          ]
        }
      ]
    },
    {
      "cell_type": "code",
      "source": [
        "#查看類別特徵有幾個，數值特徵有幾個\n",
        "all_cols=df.columns.tolist()\n",
        "categorical=0\n",
        "numerical=0\n",
        "for col in all_cols:\n",
        "    if(df[col].dtype == 'object'):\n",
        "        categorical+=1\n",
        "    else:\n",
        "        numerical+=1\n",
        "print(categorical)\n",
        "print(numerical)"
      ],
      "metadata": {
        "colab": {
          "base_uri": "https://localhost:8080/"
        },
        "id": "NwPnJCJ0KeEq",
        "outputId": "cfb41651-6ed7-451c-a4a5-1a298979d8ca"
      },
      "execution_count": 5,
      "outputs": [
        {
          "output_type": "stream",
          "name": "stdout",
          "text": [
            "1\n",
            "14\n"
          ]
        }
      ]
    },
    {
      "cell_type": "code",
      "source": [
        "from datetime import datetime\n",
        "new_df=pd.to_datetime(df['Date'].astype(str)+\" \"+df['Time'].astype(str))\n",
        "df.insert(0,'datatime',new_df)"
      ],
      "metadata": {
        "id": "BPJddi-4MDCU"
      },
      "execution_count": 6,
      "outputs": []
    },
    {
      "cell_type": "code",
      "source": [
        "df=df.drop(\"Date\",axis=1)\n",
        "df=df.drop(\"Time\",axis=1)"
      ],
      "metadata": {
        "id": "uvXVJ4BxNtY0"
      },
      "execution_count": 7,
      "outputs": []
    },
    {
      "cell_type": "code",
      "source": [
        "df = df.dropna().replace(-200,np.nan)"
      ],
      "metadata": {
        "id": "_dRWmbnHzfpX"
      },
      "execution_count": 8,
      "outputs": []
    },
    {
      "cell_type": "code",
      "source": [
        "missing_data=df.isnull().sum()\n",
        "missing_data[missing_data>0]"
      ],
      "metadata": {
        "colab": {
          "base_uri": "https://localhost:8080/"
        },
        "id": "1clKjzaQ0v_m",
        "outputId": "c2106acb-53cb-49e8-f260-b9f2ae08e348"
      },
      "execution_count": 9,
      "outputs": [
        {
          "output_type": "execute_result",
          "data": {
            "text/plain": [
              "CO(GT)           1683\n",
              "PT08.S1(CO)       366\n",
              "NMHC(GT)         8443\n",
              "C6H6(GT)          366\n",
              "PT08.S2(NMHC)     366\n",
              "NOx(GT)          1639\n",
              "PT08.S3(NOx)      366\n",
              "NO2(GT)          1642\n",
              "PT08.S4(NO2)      366\n",
              "PT08.S5(O3)       366\n",
              "T                 366\n",
              "RH                366\n",
              "AH                366\n",
              "dtype: int64"
            ]
          },
          "metadata": {},
          "execution_count": 9
        }
      ]
    },
    {
      "cell_type": "code",
      "source": [
        "df.drop('NMHC(GT)', axis=1, inplace=True) "
      ],
      "metadata": {
        "id": "PJ-UNWNEyQx7"
      },
      "execution_count": 10,
      "outputs": []
    },
    {
      "cell_type": "code",
      "source": [
        "df.info()"
      ],
      "metadata": {
        "colab": {
          "base_uri": "https://localhost:8080/"
        },
        "id": "GAh60fhPb_74",
        "outputId": "1defabaa-9f74-4f83-967f-ac8eb81bc006"
      },
      "execution_count": 11,
      "outputs": [
        {
          "output_type": "stream",
          "name": "stdout",
          "text": [
            "<class 'pandas.core.frame.DataFrame'>\n",
            "Int64Index: 9357 entries, 0 to 9356\n",
            "Data columns (total 13 columns):\n",
            " #   Column         Non-Null Count  Dtype         \n",
            "---  ------         --------------  -----         \n",
            " 0   datatime       9357 non-null   datetime64[ns]\n",
            " 1   CO(GT)         7674 non-null   float64       \n",
            " 2   PT08.S1(CO)    8991 non-null   float64       \n",
            " 3   C6H6(GT)       8991 non-null   float64       \n",
            " 4   PT08.S2(NMHC)  8991 non-null   float64       \n",
            " 5   NOx(GT)        7718 non-null   float64       \n",
            " 6   PT08.S3(NOx)   8991 non-null   float64       \n",
            " 7   NO2(GT)        7715 non-null   float64       \n",
            " 8   PT08.S4(NO2)   8991 non-null   float64       \n",
            " 9   PT08.S5(O3)    8991 non-null   float64       \n",
            " 10  T              8991 non-null   float64       \n",
            " 11  RH             8991 non-null   float64       \n",
            " 12  AH             8991 non-null   float64       \n",
            "dtypes: datetime64[ns](1), float64(12)\n",
            "memory usage: 1023.4 KB\n"
          ]
        }
      ]
    },
    {
      "cell_type": "code",
      "source": [
        "#Removing Outliers with the Interquartile Range Method (IQR)\n",
        "\n",
        "Q1 = df.quantile(0.25) #first 25% of the data\n",
        "Q3 = df.quantile(0.75) #first 75% of the data\n",
        "IQR = Q3 - Q1 #IQR = InterQuartile Range\n",
        "\n",
        "scale = 2 #For Normal Distributions, scale = 1.5\n",
        "lower_lim = Q1 - scale*IQR\n",
        "upper_lim = Q3 + scale*IQR\n",
        "\n",
        "lower_outliers = (df[df.columns[1:13]] < lower_lim)\n",
        "upper_outliers = (df[df.columns[1:13]] > upper_lim)"
      ],
      "metadata": {
        "id": "snb4c8uTyZGk"
      },
      "execution_count": 12,
      "outputs": []
    },
    {
      "cell_type": "code",
      "source": [
        "#Create new DataFrame without the outliers\n",
        "num_cols = list(df.columns[1:13])\n",
        "df_out_IQR = df[~((df[num_cols] < (Q1 - 2 * IQR)) |(df[num_cols] > (Q3 + 2 * IQR))).any(axis=1)]\n",
        "df_out_IQR.info()\n",
        "#Removing NOx(GT) and NO2(GT) sensor data due the ammount of null values if compared to other sensors\n",
        "pd.options.mode.chained_assignment = None\n",
        "df_out_IQR.drop(['NOx(GT)','NO2(GT)'],axis=1, inplace=True)\n",
        "df_out_IQR.info()"
      ],
      "metadata": {
        "colab": {
          "base_uri": "https://localhost:8080/"
        },
        "id": "KAlxCd62y3tL",
        "outputId": "8efbec47-f3bf-4853-ca62-d6d5863aec52"
      },
      "execution_count": 13,
      "outputs": [
        {
          "output_type": "stream",
          "name": "stdout",
          "text": [
            "<class 'pandas.core.frame.DataFrame'>\n",
            "Int64Index: 8900 entries, 0 to 9356\n",
            "Data columns (total 13 columns):\n",
            " #   Column         Non-Null Count  Dtype         \n",
            "---  ------         --------------  -----         \n",
            " 0   datatime       8900 non-null   datetime64[ns]\n",
            " 1   CO(GT)         7259 non-null   float64       \n",
            " 2   PT08.S1(CO)    8581 non-null   float64       \n",
            " 3   C6H6(GT)       8581 non-null   float64       \n",
            " 4   PT08.S2(NMHC)  8581 non-null   float64       \n",
            " 5   NOx(GT)        7299 non-null   float64       \n",
            " 6   PT08.S3(NOx)   8581 non-null   float64       \n",
            " 7   NO2(GT)        7296 non-null   float64       \n",
            " 8   PT08.S4(NO2)   8581 non-null   float64       \n",
            " 9   PT08.S5(O3)    8581 non-null   float64       \n",
            " 10  T              8581 non-null   float64       \n",
            " 11  RH             8581 non-null   float64       \n",
            " 12  AH             8581 non-null   float64       \n",
            "dtypes: datetime64[ns](1), float64(12)\n",
            "memory usage: 973.4 KB\n",
            "<class 'pandas.core.frame.DataFrame'>\n",
            "Int64Index: 8900 entries, 0 to 9356\n",
            "Data columns (total 11 columns):\n",
            " #   Column         Non-Null Count  Dtype         \n",
            "---  ------         --------------  -----         \n",
            " 0   datatime       8900 non-null   datetime64[ns]\n",
            " 1   CO(GT)         7259 non-null   float64       \n",
            " 2   PT08.S1(CO)    8581 non-null   float64       \n",
            " 3   C6H6(GT)       8581 non-null   float64       \n",
            " 4   PT08.S2(NMHC)  8581 non-null   float64       \n",
            " 5   PT08.S3(NOx)   8581 non-null   float64       \n",
            " 6   PT08.S4(NO2)   8581 non-null   float64       \n",
            " 7   PT08.S5(O3)    8581 non-null   float64       \n",
            " 8   T              8581 non-null   float64       \n",
            " 9   RH             8581 non-null   float64       \n",
            " 10  AH             8581 non-null   float64       \n",
            "dtypes: datetime64[ns](1), float64(10)\n",
            "memory usage: 834.4 KB\n"
          ]
        }
      ]
    },
    {
      "cell_type": "code",
      "source": [
        "missing_data=df_out_IQR.isnull().sum()\n",
        "missing_data[missing_data>0]"
      ],
      "metadata": {
        "colab": {
          "base_uri": "https://localhost:8080/"
        },
        "id": "RQjxVCQEzzEU",
        "outputId": "17c80c5f-0341-4f06-9620-314c3ab00221"
      },
      "execution_count": 14,
      "outputs": [
        {
          "output_type": "execute_result",
          "data": {
            "text/plain": [
              "CO(GT)           1641\n",
              "PT08.S1(CO)       319\n",
              "C6H6(GT)          319\n",
              "PT08.S2(NMHC)     319\n",
              "PT08.S3(NOx)      319\n",
              "PT08.S4(NO2)      319\n",
              "PT08.S5(O3)       319\n",
              "T                 319\n",
              "RH                319\n",
              "AH                319\n",
              "dtype: int64"
            ]
          },
          "metadata": {},
          "execution_count": 14
        }
      ]
    },
    {
      "cell_type": "code",
      "source": [
        "df = df_out_IQR.dropna(axis=0)\n",
        "df.reset_index(drop=True,inplace=True)\n",
        "missing_data=df.isnull().sum()\n",
        "missing_data[missing_data>0]"
      ],
      "metadata": {
        "colab": {
          "base_uri": "https://localhost:8080/"
        },
        "id": "MmQKmj60zp4Z",
        "outputId": "bf94bdf2-87ed-41a7-fe23-91e4a0536932"
      },
      "execution_count": 15,
      "outputs": [
        {
          "output_type": "execute_result",
          "data": {
            "text/plain": [
              "Series([], dtype: int64)"
            ]
          },
          "metadata": {},
          "execution_count": 15
        }
      ]
    },
    {
      "cell_type": "code",
      "source": [
        "df.corr()"
      ],
      "metadata": {
        "colab": {
          "base_uri": "https://localhost:8080/",
          "height": 359
        },
        "id": "UISx46VN_Lrz",
        "outputId": "54e06a28-ae44-4c8a-e52c-81df329dffdc"
      },
      "execution_count": 16,
      "outputs": [
        {
          "output_type": "execute_result",
          "data": {
            "text/plain": [
              "                 CO(GT)  PT08.S1(CO)  C6H6(GT)  PT08.S2(NMHC)  PT08.S3(NOx)  \\\n",
              "CO(GT)         1.000000     0.860890  0.920507       0.910267     -0.735999   \n",
              "PT08.S1(CO)    0.860890     1.000000  0.861980       0.867624     -0.780805   \n",
              "C6H6(GT)       0.920507     0.861980  1.000000       0.986883     -0.759553   \n",
              "PT08.S2(NMHC)  0.910267     0.867624  0.986883       1.000000     -0.802025   \n",
              "PT08.S3(NOx)  -0.735999    -0.780805 -0.759553      -0.802025      1.000000   \n",
              "PT08.S4(NO2)   0.598172     0.641398  0.754667       0.757678     -0.486128   \n",
              "PT08.S5(O3)    0.834640     0.879990  0.842622       0.854544     -0.815842   \n",
              "T              0.064590     0.058988  0.259518       0.283670     -0.113972   \n",
              "RH            -0.006596     0.120311 -0.101767      -0.118371     -0.091214   \n",
              "AH             0.050233     0.144285  0.199272       0.208402     -0.220987   \n",
              "\n",
              "               PT08.S4(NO2)  PT08.S5(O3)         T        RH        AH  \n",
              "CO(GT)             0.598172     0.834640  0.064590 -0.006596  0.050233  \n",
              "PT08.S1(CO)        0.641398     0.879990  0.058988  0.120311  0.144285  \n",
              "C6H6(GT)           0.754667     0.842622  0.259518 -0.101767  0.199272  \n",
              "PT08.S2(NMHC)      0.757678     0.854544  0.283670 -0.118371  0.208402  \n",
              "PT08.S3(NOx)      -0.486128    -0.815842 -0.113972 -0.091214 -0.220987  \n",
              "PT08.S4(NO2)       1.000000     0.540564  0.605461 -0.053323  0.660996  \n",
              "PT08.S5(O3)        0.540564     1.000000 -0.018942  0.129004  0.079190  \n",
              "T                  0.605461    -0.018942  1.000000 -0.574760  0.656972  \n",
              "RH                -0.053323     0.129004 -0.574760  1.000000  0.171658  \n",
              "AH                 0.660996     0.079190  0.656972  0.171658  1.000000  "
            ],
            "text/html": [
              "\n",
              "  <div id=\"df-61722307-1856-4f9c-8835-86252c8853fe\">\n",
              "    <div class=\"colab-df-container\">\n",
              "      <div>\n",
              "<style scoped>\n",
              "    .dataframe tbody tr th:only-of-type {\n",
              "        vertical-align: middle;\n",
              "    }\n",
              "\n",
              "    .dataframe tbody tr th {\n",
              "        vertical-align: top;\n",
              "    }\n",
              "\n",
              "    .dataframe thead th {\n",
              "        text-align: right;\n",
              "    }\n",
              "</style>\n",
              "<table border=\"1\" class=\"dataframe\">\n",
              "  <thead>\n",
              "    <tr style=\"text-align: right;\">\n",
              "      <th></th>\n",
              "      <th>CO(GT)</th>\n",
              "      <th>PT08.S1(CO)</th>\n",
              "      <th>C6H6(GT)</th>\n",
              "      <th>PT08.S2(NMHC)</th>\n",
              "      <th>PT08.S3(NOx)</th>\n",
              "      <th>PT08.S4(NO2)</th>\n",
              "      <th>PT08.S5(O3)</th>\n",
              "      <th>T</th>\n",
              "      <th>RH</th>\n",
              "      <th>AH</th>\n",
              "    </tr>\n",
              "  </thead>\n",
              "  <tbody>\n",
              "    <tr>\n",
              "      <th>CO(GT)</th>\n",
              "      <td>1.000000</td>\n",
              "      <td>0.860890</td>\n",
              "      <td>0.920507</td>\n",
              "      <td>0.910267</td>\n",
              "      <td>-0.735999</td>\n",
              "      <td>0.598172</td>\n",
              "      <td>0.834640</td>\n",
              "      <td>0.064590</td>\n",
              "      <td>-0.006596</td>\n",
              "      <td>0.050233</td>\n",
              "    </tr>\n",
              "    <tr>\n",
              "      <th>PT08.S1(CO)</th>\n",
              "      <td>0.860890</td>\n",
              "      <td>1.000000</td>\n",
              "      <td>0.861980</td>\n",
              "      <td>0.867624</td>\n",
              "      <td>-0.780805</td>\n",
              "      <td>0.641398</td>\n",
              "      <td>0.879990</td>\n",
              "      <td>0.058988</td>\n",
              "      <td>0.120311</td>\n",
              "      <td>0.144285</td>\n",
              "    </tr>\n",
              "    <tr>\n",
              "      <th>C6H6(GT)</th>\n",
              "      <td>0.920507</td>\n",
              "      <td>0.861980</td>\n",
              "      <td>1.000000</td>\n",
              "      <td>0.986883</td>\n",
              "      <td>-0.759553</td>\n",
              "      <td>0.754667</td>\n",
              "      <td>0.842622</td>\n",
              "      <td>0.259518</td>\n",
              "      <td>-0.101767</td>\n",
              "      <td>0.199272</td>\n",
              "    </tr>\n",
              "    <tr>\n",
              "      <th>PT08.S2(NMHC)</th>\n",
              "      <td>0.910267</td>\n",
              "      <td>0.867624</td>\n",
              "      <td>0.986883</td>\n",
              "      <td>1.000000</td>\n",
              "      <td>-0.802025</td>\n",
              "      <td>0.757678</td>\n",
              "      <td>0.854544</td>\n",
              "      <td>0.283670</td>\n",
              "      <td>-0.118371</td>\n",
              "      <td>0.208402</td>\n",
              "    </tr>\n",
              "    <tr>\n",
              "      <th>PT08.S3(NOx)</th>\n",
              "      <td>-0.735999</td>\n",
              "      <td>-0.780805</td>\n",
              "      <td>-0.759553</td>\n",
              "      <td>-0.802025</td>\n",
              "      <td>1.000000</td>\n",
              "      <td>-0.486128</td>\n",
              "      <td>-0.815842</td>\n",
              "      <td>-0.113972</td>\n",
              "      <td>-0.091214</td>\n",
              "      <td>-0.220987</td>\n",
              "    </tr>\n",
              "    <tr>\n",
              "      <th>PT08.S4(NO2)</th>\n",
              "      <td>0.598172</td>\n",
              "      <td>0.641398</td>\n",
              "      <td>0.754667</td>\n",
              "      <td>0.757678</td>\n",
              "      <td>-0.486128</td>\n",
              "      <td>1.000000</td>\n",
              "      <td>0.540564</td>\n",
              "      <td>0.605461</td>\n",
              "      <td>-0.053323</td>\n",
              "      <td>0.660996</td>\n",
              "    </tr>\n",
              "    <tr>\n",
              "      <th>PT08.S5(O3)</th>\n",
              "      <td>0.834640</td>\n",
              "      <td>0.879990</td>\n",
              "      <td>0.842622</td>\n",
              "      <td>0.854544</td>\n",
              "      <td>-0.815842</td>\n",
              "      <td>0.540564</td>\n",
              "      <td>1.000000</td>\n",
              "      <td>-0.018942</td>\n",
              "      <td>0.129004</td>\n",
              "      <td>0.079190</td>\n",
              "    </tr>\n",
              "    <tr>\n",
              "      <th>T</th>\n",
              "      <td>0.064590</td>\n",
              "      <td>0.058988</td>\n",
              "      <td>0.259518</td>\n",
              "      <td>0.283670</td>\n",
              "      <td>-0.113972</td>\n",
              "      <td>0.605461</td>\n",
              "      <td>-0.018942</td>\n",
              "      <td>1.000000</td>\n",
              "      <td>-0.574760</td>\n",
              "      <td>0.656972</td>\n",
              "    </tr>\n",
              "    <tr>\n",
              "      <th>RH</th>\n",
              "      <td>-0.006596</td>\n",
              "      <td>0.120311</td>\n",
              "      <td>-0.101767</td>\n",
              "      <td>-0.118371</td>\n",
              "      <td>-0.091214</td>\n",
              "      <td>-0.053323</td>\n",
              "      <td>0.129004</td>\n",
              "      <td>-0.574760</td>\n",
              "      <td>1.000000</td>\n",
              "      <td>0.171658</td>\n",
              "    </tr>\n",
              "    <tr>\n",
              "      <th>AH</th>\n",
              "      <td>0.050233</td>\n",
              "      <td>0.144285</td>\n",
              "      <td>0.199272</td>\n",
              "      <td>0.208402</td>\n",
              "      <td>-0.220987</td>\n",
              "      <td>0.660996</td>\n",
              "      <td>0.079190</td>\n",
              "      <td>0.656972</td>\n",
              "      <td>0.171658</td>\n",
              "      <td>1.000000</td>\n",
              "    </tr>\n",
              "  </tbody>\n",
              "</table>\n",
              "</div>\n",
              "      <button class=\"colab-df-convert\" onclick=\"convertToInteractive('df-61722307-1856-4f9c-8835-86252c8853fe')\"\n",
              "              title=\"Convert this dataframe to an interactive table.\"\n",
              "              style=\"display:none;\">\n",
              "        \n",
              "  <svg xmlns=\"http://www.w3.org/2000/svg\" height=\"24px\"viewBox=\"0 0 24 24\"\n",
              "       width=\"24px\">\n",
              "    <path d=\"M0 0h24v24H0V0z\" fill=\"none\"/>\n",
              "    <path d=\"M18.56 5.44l.94 2.06.94-2.06 2.06-.94-2.06-.94-.94-2.06-.94 2.06-2.06.94zm-11 1L8.5 8.5l.94-2.06 2.06-.94-2.06-.94L8.5 2.5l-.94 2.06-2.06.94zm10 10l.94 2.06.94-2.06 2.06-.94-2.06-.94-.94-2.06-.94 2.06-2.06.94z\"/><path d=\"M17.41 7.96l-1.37-1.37c-.4-.4-.92-.59-1.43-.59-.52 0-1.04.2-1.43.59L10.3 9.45l-7.72 7.72c-.78.78-.78 2.05 0 2.83L4 21.41c.39.39.9.59 1.41.59.51 0 1.02-.2 1.41-.59l7.78-7.78 2.81-2.81c.8-.78.8-2.07 0-2.86zM5.41 20L4 18.59l7.72-7.72 1.47 1.35L5.41 20z\"/>\n",
              "  </svg>\n",
              "      </button>\n",
              "      \n",
              "  <style>\n",
              "    .colab-df-container {\n",
              "      display:flex;\n",
              "      flex-wrap:wrap;\n",
              "      gap: 12px;\n",
              "    }\n",
              "\n",
              "    .colab-df-convert {\n",
              "      background-color: #E8F0FE;\n",
              "      border: none;\n",
              "      border-radius: 50%;\n",
              "      cursor: pointer;\n",
              "      display: none;\n",
              "      fill: #1967D2;\n",
              "      height: 32px;\n",
              "      padding: 0 0 0 0;\n",
              "      width: 32px;\n",
              "    }\n",
              "\n",
              "    .colab-df-convert:hover {\n",
              "      background-color: #E2EBFA;\n",
              "      box-shadow: 0px 1px 2px rgba(60, 64, 67, 0.3), 0px 1px 3px 1px rgba(60, 64, 67, 0.15);\n",
              "      fill: #174EA6;\n",
              "    }\n",
              "\n",
              "    [theme=dark] .colab-df-convert {\n",
              "      background-color: #3B4455;\n",
              "      fill: #D2E3FC;\n",
              "    }\n",
              "\n",
              "    [theme=dark] .colab-df-convert:hover {\n",
              "      background-color: #434B5C;\n",
              "      box-shadow: 0px 1px 3px 1px rgba(0, 0, 0, 0.15);\n",
              "      filter: drop-shadow(0px 1px 2px rgba(0, 0, 0, 0.3));\n",
              "      fill: #FFFFFF;\n",
              "    }\n",
              "  </style>\n",
              "\n",
              "      <script>\n",
              "        const buttonEl =\n",
              "          document.querySelector('#df-61722307-1856-4f9c-8835-86252c8853fe button.colab-df-convert');\n",
              "        buttonEl.style.display =\n",
              "          google.colab.kernel.accessAllowed ? 'block' : 'none';\n",
              "\n",
              "        async function convertToInteractive(key) {\n",
              "          const element = document.querySelector('#df-61722307-1856-4f9c-8835-86252c8853fe');\n",
              "          const dataTable =\n",
              "            await google.colab.kernel.invokeFunction('convertToInteractive',\n",
              "                                                     [key], {});\n",
              "          if (!dataTable) return;\n",
              "\n",
              "          const docLinkHtml = 'Like what you see? Visit the ' +\n",
              "            '<a target=\"_blank\" href=https://colab.research.google.com/notebooks/data_table.ipynb>data table notebook</a>'\n",
              "            + ' to learn more about interactive tables.';\n",
              "          element.innerHTML = '';\n",
              "          dataTable['output_type'] = 'display_data';\n",
              "          await google.colab.output.renderOutput(dataTable, element);\n",
              "          const docLink = document.createElement('div');\n",
              "          docLink.innerHTML = docLinkHtml;\n",
              "          element.appendChild(docLink);\n",
              "        }\n",
              "      </script>\n",
              "    </div>\n",
              "  </div>\n",
              "  "
            ]
          },
          "metadata": {},
          "execution_count": 16
        }
      ]
    },
    {
      "cell_type": "code",
      "source": [
        "# sns.pairplot(df)\n",
        "# plt.show()"
      ],
      "metadata": {
        "id": "O87AY2zh1J3R"
      },
      "execution_count": 17,
      "outputs": []
    },
    {
      "cell_type": "code",
      "source": [
        "corrmat=df.corr()\n",
        "top_corr_feature=corrmat.index\n",
        "plt.figure(figsize=(10,10))\n",
        "# to plot heat map\n",
        "g=sns.heatmap(df[top_corr_feature].corr(),annot=True,cmap='viridis')\n",
        "\n",
        "y=df[['PT08.S1(CO)']]\n",
        "# \n",
        "train = df.iloc[:len(y),:]\n",
        "cols = train .corr().nlargest(10,'PT08.S1(CO)').index\n",
        "plt.subplots(figsize=(10,10))\n",
        "sns.set(font_scale=1.1)\n",
        "sns.heatmap(train[cols].corr(),square=True, annot=True)"
      ],
      "metadata": {
        "colab": {
          "base_uri": "https://localhost:8080/",
          "height": 1000
        },
        "id": "uhpQAJJRIrr8",
        "outputId": "56a3ac0d-2c29-4b93-90b0-b0ce9266967f"
      },
      "execution_count": 18,
      "outputs": [
        {
          "output_type": "execute_result",
          "data": {
            "text/plain": [
              "<matplotlib.axes._subplots.AxesSubplot at 0x7fd157f00a50>"
            ]
          },
          "metadata": {},
          "execution_count": 18
        },
        {
          "output_type": "display_data",
          "data": {
            "text/plain": [
              "<Figure size 720x720 with 2 Axes>"
            ],
            "image/png": "[encoded data removed]"
          },
          "metadata": {
            "needs_background": "light"
          }
        },
        {
          "output_type": "display_data",
          "data": {
            "text/plain": [
              "<Figure size 720x720 with 2 Axes>"
            ],
            "image/png": "[encoded data removed]"
          },
          "metadata": {
            "needs_background": "light"
          }
        }
      ]
    },
    {
      "cell_type": "code",
      "source": [
        "df.drop('datatime',axis=1,inplace=True)\n",
        "df.drop(['PT08.S1(CO)'],axis=1, inplace=True)"
      ],
      "metadata": {
        "id": "iqRrPOFoHsUC"
      },
      "execution_count": 19,
      "outputs": []
    },
    {
      "cell_type": "code",
      "source": [
        "from sklearn.model_selection import train_test_split\n",
        "df_train, df_test, y_train, y_test = train_test_split(df, y, test_size=0.3,random_state = 10)  "
      ],
      "metadata": {
        "id": "5M7lMi9iJgrf"
      },
      "execution_count": 20,
      "outputs": []
    },
    {
      "cell_type": "code",
      "source": [
        "from sklearn.preprocessing import StandardScaler\n",
        "sc = StandardScaler()\n",
        "sc.fit(df_train)\n",
        "df_train_std= sc.transform(df_train)\n",
        "df_test_std = sc.transform(df_test)"
      ],
      "metadata": {
        "id": "pdhniMfNLzuD"
      },
      "execution_count": 21,
      "outputs": []
    },
    {
      "cell_type": "code",
      "source": [
        "from sklearn.model_selection import KFold\n",
        "from sklearn.linear_model import LinearRegression\n",
        "from sklearn.model_selection import cross_val_score\n",
        "from sklearn.metrics import mean_squared_error, r2_score\n",
        "from sklearn.metrics import mean_absolute_error,mean_absolute_percentage_error\n",
        "from math import sqrt\n",
        "lr = LinearRegression()\n",
        "lr.fit(df_train_std,y_train)\n",
        "lr.score(df_test_std,y_test)\n",
        "y_pred = lr.predict(df_test_std)\n",
        "print(y_pred)\n",
        "# The coefficients\n",
        "print('Coefficients: \\n',lr.coef_)\n",
        "# The mean squared error\n",
        "print('Mean squared error: %.2f'\n",
        "      % mean_squared_error(y_test, y_pred))\n",
        "print('Mean absolute error: %.2f'\n",
        "      % mean_absolute_error(y_test, y_pred))\n",
        "print('Mean absolute percentange error: %.2f'\n",
        "      % mean_absolute_percentage_error(y_test, y_pred))\n",
        "print('Root Mean squared error: %.2f'\n",
        "      % sqrt(mean_squared_error(y_test, y_pred)))\n",
        "print('R squared value: %.2f'%r2_score(y_test, y_pred))\n",
        "# The coefficient of determination: 1 is perfect prediction\n",
        "print('Coefficient of determination: %.2f'\n",
        "      % r2_score(y_test, y_pred))\n",
        "# the r squared value\n",
        "scores = cross_val_score(lr, df_train_std, y_train, scoring='r2', cv=10).mean()#cross_val_score這是驗證用來評分資料準確度的。\n",
        "scores"
      ],
      "metadata": {
        "colab": {
          "base_uri": "https://localhost:8080/"
        },
        "id": "AgvqwSodSp9V",
        "outputId": "5d593fba-c326-4c25-bd1f-d977633d343c"
      },
      "execution_count": 22,
      "outputs": [
        {
          "output_type": "stream",
          "name": "stdout",
          "text": [
            "[[1229.59323106]\n",
            " [1008.8785394 ]\n",
            " [1129.27568051]\n",
            " ...\n",
            " [1086.54880897]\n",
            " [1083.90930423]\n",
            " [ 934.0789802 ]]\n",
            "Coefficients: \n",
            " [[ 54.38315892  19.90643372 -46.34559536 -48.83504616  82.76212191\n",
            "   65.54531959   8.15170954  24.64588956 -48.65140252]]\n",
            "Mean squared error: 5396.48\n",
            "Mean absolute error: 56.10\n",
            "Mean absolute percentange error: 0.05\n",
            "Root Mean squared error: 73.46\n",
            "R squared value: 0.87\n",
            "Coefficient of determination: 0.87\n"
          ]
        },
        {
          "output_type": "execute_result",
          "data": {
            "text/plain": [
              "0.8603150377827419"
            ]
          },
          "metadata": {},
          "execution_count": 22
        }
      ]
    },
    {
      "cell_type": "code",
      "source": [
        "from sklearn.neighbors import KNeighborsRegressor\n",
        "k_scores = []#to store rmse values for different k\n",
        "k_range = range(1,30)\n",
        "for K in range(1,30):\n",
        "    K = K+1\n",
        "    model =KNeighborsRegressor(n_neighbors = K)\n",
        "    model.fit(df_train_std, y_train)  #fit the model\n",
        "    pred=model.predict(df_test_std) #make prediction on test set\n",
        "    error = sqrt(mean_squared_error(y_test,pred)) #calculate rmse\n",
        "    k_scores.append(error) #store rmse values\n",
        "    print('RMSE value for k= ' , K , 'is:', error)\n",
        "plt.plot(k_range,k_scores)\n",
        "plt.xlabel('Value of K for KNN')\n",
        "plt.ylabel('Cross-Validated Accuracy')\n",
        "plt.show()"
      ],
      "metadata": {
        "colab": {
          "base_uri": "https://localhost:8080/",
          "height": 781
        },
        "id": "yfqRp5zE9unH",
        "outputId": "6fc7b041-5458-492f-b3d7-6a07fa280501"
      },
      "execution_count": 23,
      "outputs": [
        {
          "output_type": "stream",
          "name": "stdout",
          "text": [
            "RMSE value for k=  2 is: 56.69244171805286\n",
            "RMSE value for k=  3 is: 55.142207308817156\n",
            "RMSE value for k=  4 is: 54.611591728194085\n",
            "RMSE value for k=  5 is: 54.89913506051177\n",
            "RMSE value for k=  6 is: 54.974999064251286\n",
            "RMSE value for k=  7 is: 55.0831079320987\n",
            "RMSE value for k=  8 is: 55.73854038436135\n",
            "RMSE value for k=  9 is: 56.43698525067263\n",
            "RMSE value for k=  10 is: 56.840621271898186\n",
            "RMSE value for k=  11 is: 56.84947622136756\n",
            "RMSE value for k=  12 is: 57.136622730738154\n",
            "RMSE value for k=  13 is: 57.55958562835235\n",
            "RMSE value for k=  14 is: 57.69564478424433\n",
            "RMSE value for k=  15 is: 57.86548765019798\n",
            "RMSE value for k=  16 is: 58.06943831992805\n",
            "RMSE value for k=  17 is: 58.19937180964821\n",
            "RMSE value for k=  18 is: 58.39080300069909\n",
            "RMSE value for k=  19 is: 58.84172445894293\n",
            "RMSE value for k=  20 is: 58.94176209936461\n",
            "RMSE value for k=  21 is: 59.146272774552294\n",
            "RMSE value for k=  22 is: 59.341928619859445\n",
            "RMSE value for k=  23 is: 59.496723306044046\n",
            "RMSE value for k=  24 is: 59.671674061868224\n",
            "RMSE value for k=  25 is: 59.85556252350362\n",
            "RMSE value for k=  26 is: 60.134554683319045\n",
            "RMSE value for k=  27 is: 60.22169871926782\n",
            "RMSE value for k=  28 is: 60.45982711579139\n",
            "RMSE value for k=  29 is: 60.64456114214547\n",
            "RMSE value for k=  30 is: 60.85582429356077\n"
          ]
        },
        {
          "output_type": "display_data",
          "data": {
            "text/plain": [
              "<Figure size 432x288 with 1 Axes>"
            ],
            "image/png": "[encoded data removed]"
          },
          "metadata": {}
        }
      ]
    },
    {
      "cell_type": "code",
      "source": [
        "from sklearn.model_selection import GridSearchCV\n",
        "params = {'n_neighbors':[2,3,4,5,6,7,8,9,10,15,20,25,30]}\n",
        "\n",
        "knn = KNeighborsRegressor()\n",
        "\n",
        "model = GridSearchCV(knn, params, cv=10)\n",
        "model=model.fit(df_train_std,y_train)\n",
        "model.best_params_\n",
        "y_pred = model.predict(df_test_std)\n",
        "print(model.best_score_)\n",
        "print('Mean squared error: %.2f'\n",
        "      % mean_squared_error(y_test, y_pred))\n",
        "print('Mean absolute error: %.2f'\n",
        "      % mean_absolute_error(y_test, y_pred))\n",
        "print('Mean absolute percentange error: %.2f'\n",
        "      % mean_absolute_percentage_error(y_test, y_pred))\n",
        "print('Root Mean squared error: %.2f'\n",
        "      % sqrt(mean_squared_error(y_test, y_pred)))\n",
        "print('R squared value: %.2f'%r2_score(y_test, y_pred))\n",
        "scores = cross_val_score(model, df_train_std, y_train, scoring='r2', cv=10).mean()#cross_val_score這是驗證用來評分資料準確度的。\n",
        "scores"
      ],
      "metadata": {
        "colab": {
          "base_uri": "https://localhost:8080/"
        },
        "id": "nCiy4hxEb2mf",
        "outputId": "3206daa0-a710-404c-e9c8-190b9f0c524f"
      },
      "execution_count": 24,
      "outputs": [
        {
          "output_type": "stream",
          "name": "stdout",
          "text": [
            "0.9192354508009908\n",
            "Mean squared error: 3106.78\n",
            "Mean absolute error: 40.32\n",
            "Mean absolute percentange error: 0.04\n",
            "Root Mean squared error: 55.74\n",
            "R squared value: 0.93\n"
          ]
        },
        {
          "output_type": "execute_result",
          "data": {
            "text/plain": [
              "0.9186889526976465"
            ]
          },
          "metadata": {},
          "execution_count": 24
        }
      ]
    },
    {
      "cell_type": "code",
      "source": [
        "from sklearn.svm import SVR\n",
        "from sklearn.pipeline import make_pipeline\n",
        "from sklearn.preprocessing import StandardScaler\n",
        "import numpy as np\n",
        "pipe_svr = make_pipeline(StandardScaler(), SVR(C=1.0))\n",
        "pipe_svr.fit(df_train_std, y_train)\n",
        "y_pred=pipe_svr.predict(df_test_std)\n",
        "print('Mean squared error: %.2f'\n",
        "      % mean_squared_error(y_test, y_pred))\n",
        "print('Mean absolute error: %.2f'\n",
        "      % mean_absolute_error(y_test, y_pred))\n",
        "print('Mean absolute percentange error: %.2f'\n",
        "      % mean_absolute_percentage_error(y_test, y_pred))\n",
        "print('Root Mean squared error: %.2f'\n",
        "      % sqrt(mean_squared_error(y_test, y_pred)))\n",
        "print('R squared value: %.2f'%r2_score(y_test, y_pred))\n",
        "scores = cross_val_score(pipe_svr, df_train_std, y_train, scoring='r2', cv=10).mean()#cross_val_score這是驗證用來評分資料準確度的。\n",
        "scores"
      ],
      "metadata": {
        "colab": {
          "base_uri": "https://localhost:8080/"
        },
        "id": "SxH3CfE_ZhGU",
        "outputId": "a3f4607d-900f-4b12-e4d7-21df8c40c6b7"
      },
      "execution_count": 25,
      "outputs": [
        {
          "output_type": "stream",
          "name": "stdout",
          "text": [
            "Mean squared error: 9246.97\n",
            "Mean absolute error: 67.37\n",
            "Mean absolute percentange error: 0.06\n",
            "Root Mean squared error: 96.16\n",
            "R squared value: 0.78\n"
          ]
        },
        {
          "output_type": "execute_result",
          "data": {
            "text/plain": [
              "0.7714356239365204"
            ]
          },
          "metadata": {},
          "execution_count": 25
        }
      ]
    },
    {
      "cell_type": "code",
      "source": [
        "model=SVR()\n",
        "param_range = [0.1,1.0,10.0,100.0]\n",
        "param_grid = [\n",
        "              {'C': param_range, \n",
        "               'gamma': param_range, \n",
        "               'kernel': ['linear','rbf']}]\n",
        "gs = GridSearchCV(estimator=model, \n",
        "                  param_grid=param_grid, \n",
        "                  scoring='accuracy', \n",
        "                  refit=True,\n",
        "                  cv=10,\n",
        "                  n_jobs=-1)\n",
        "gs = gs.fit(df_train_std, y_train)\n",
        "y_test_pred = gs.predict(df_test_std)"
      ],
      "metadata": {
        "id": "djuOoZuQ7Y4d"
      },
      "execution_count": 28,
      "outputs": []
    },
    {
      "cell_type": "code",
      "source": [
        "print(gs.best_params_)\n",
        "y_pred =gs.predict(df_test_std)\n",
        "print('Mean squared error: %.2f'\n",
        "      % mean_squared_error(y_test, y_pred))\n",
        "print('Mean absolute error: %.2f'\n",
        "      % mean_absolute_error(y_test, y_pred))\n",
        "print('Mean absolute percentange error: %.2f'\n",
        "      % mean_absolute_percentage_error(y_test, y_pred))\n",
        "print('Root Mean squared error: %.2f'\n",
        "      % sqrt(mean_squared_error(y_test, y_pred)))\n",
        "print('R squared value: %.2f'%r2_score(y_test, y_pred))"
      ],
      "metadata": {
        "colab": {
          "base_uri": "https://localhost:8080/"
        },
        "id": "ighsanadfbEs",
        "outputId": "271b803c-6097-4078-d591-43d5bb0c31b2"
      },
      "execution_count": 29,
      "outputs": [
        {
          "output_type": "stream",
          "name": "stdout",
          "text": [
            "{'C': 0.1, 'gamma': 0.1, 'kernel': 'linear'}\n",
            "Mean squared error: 6153.21\n",
            "Mean absolute error: 59.04\n",
            "Mean absolute percentange error: 0.05\n",
            "Root Mean squared error: 78.44\n",
            "R squared value: 0.85\n"
          ]
        }
      ]
    },
    {
      "cell_type": "code",
      "source": [
        "from sklearn.ensemble import RandomForestRegressor\n",
        "\n",
        "model = RandomForestRegressor(n_estimators=10,random_state=1,n_jobs=-1)\n",
        "model.fit(df_train, y_train)\n",
        "# Use the forest's predict method on the test data\n",
        "y_pred = model.predict(df_test)\n",
        "model.score(df_train, y_train)\n",
        "print('Mean squared error: %.2f'\n",
        "      % mean_squared_error(y_test, y_pred))\n",
        "print('Mean absolute error: %.2f'\n",
        "      % mean_absolute_error(y_test, y_pred))\n",
        "print('Mean absolute percentange error: %.2f'\n",
        "      % mean_absolute_percentage_error(y_test, y_pred))\n",
        "print('Root Mean squared error: %.2f'\n",
        "      % sqrt(mean_squared_error(y_test, y_pred)))\n",
        "print('R squared value: %.2f'%r2_score(y_test, y_pred))\n",
        "model.feature_importances_"
      ],
      "metadata": {
        "colab": {
          "base_uri": "https://localhost:8080/"
        },
        "id": "m4C7YhXtd-_s",
        "outputId": "6712431a-48d7-4ed1-9f07-60bc4a14563d"
      },
      "execution_count": 30,
      "outputs": [
        {
          "output_type": "stream",
          "name": "stdout",
          "text": [
            "Mean squared error: 3163.07\n",
            "Mean absolute error: 40.60\n",
            "Mean absolute percentange error: 0.04\n",
            "Root Mean squared error: 56.24\n",
            "R squared value: 0.92\n"
          ]
        },
        {
          "output_type": "execute_result",
          "data": {
            "text/plain": [
              "array([0.08707917, 0.04105585, 0.03561684, 0.07234081, 0.04686445,\n",
              "       0.67007521, 0.01690945, 0.01356399, 0.01649423])"
            ]
          },
          "metadata": {},
          "execution_count": 30
        }
      ]
    },
    {
      "cell_type": "code",
      "source": [
        "importances = model.feature_importances_\n",
        "print(importances)\n",
        "#\n",
        "# Sort the feature importance in descending order\n",
        "#\n",
        "sorted_indices = np.argsort(importances)[::-1]\n",
        "feature_list=df.columns\n",
        "feat_labels = df.columns[0:]\n",
        "print(feat_labels)\n",
        "for f in range(df_train.shape[1]):\n",
        "    print(\"%2d) %-*s %f\" % (f + 1, 30,\n",
        "                            feat_labels[sorted_indices[f]],\n",
        "                            importances[sorted_indices[f]]))"
      ],
      "metadata": {
        "colab": {
          "base_uri": "https://localhost:8080/"
        },
        "id": "k03qsAu3r9IE",
        "outputId": "c66038c9-ca4b-4189-d41e-50db7daa7ea5"
      },
      "execution_count": 33,
      "outputs": [
        {
          "output_type": "stream",
          "name": "stdout",
          "text": [
            "[0.08707917 0.04105585 0.03561684 0.07234081 0.04686445 0.67007521\n",
            " 0.01690945 0.01356399 0.01649423]\n",
            "Index(['CO(GT)', 'C6H6(GT)', 'PT08.S2(NMHC)', 'PT08.S3(NOx)', 'PT08.S4(NO2)',\n",
            "       'PT08.S5(O3)', 'T', 'RH', 'AH'],\n",
            "      dtype='object')\n",
            " 1) PT08.S5(O3)                    0.670075\n",
            " 2) CO(GT)                         0.087079\n",
            " 3) PT08.S3(NOx)                   0.072341\n",
            " 4) PT08.S4(NO2)                   0.046864\n",
            " 5) C6H6(GT)                       0.041056\n",
            " 6) PT08.S2(NMHC)                  0.035617\n",
            " 7) T                              0.016909\n",
            " 8) AH                             0.016494\n",
            " 9) RH                             0.013564\n"
          ]
        }
      ]
    },
    {
      "cell_type": "code",
      "source": [
        "importances=list(model.feature_importances_)\n",
        "feature_importances=[(df,round(importance,2)) for feature,importance in zip(feature_list,importances)]\n",
        "feature_importances=sorted(feature_importances,key=lambda x:x[1],reverse=True)"
      ],
      "metadata": {
        "id": "yuPzBJAKn_zp"
      },
      "execution_count": 34,
      "outputs": []
    },
    {
      "cell_type": "code",
      "source": [
        "df_values=list(range(len(importances)))\n",
        "plt.bar(df_values,importances,orientation='vertical')\n",
        "plt.xticks(df_values,feature_list,rotation='vertical')\n",
        "plt.ylabel('Importance')\n",
        "plt.xlabel('Variable')\n",
        "plt.title('Variable Importances')"
      ],
      "metadata": {
        "colab": {
          "base_uri": "https://localhost:8080/",
          "height": 404
        },
        "id": "zYxJHcg0o9Md",
        "outputId": "c1c68d29-f8f6-4447-c38c-894d5b88b56c"
      },
      "execution_count": 35,
      "outputs": [
        {
          "output_type": "execute_result",
          "data": {
            "text/plain": [
              "Text(0.5, 1.0, 'Variable Importances')"
            ]
          },
          "metadata": {},
          "execution_count": 35
        },
        {
          "output_type": "display_data",
          "data": {
            "text/plain": [
              "<Figure size 432x288 with 1 Axes>"
            ],
            "image/png": "[encoded data removed]"
          },
          "metadata": {}
        }
      ]
    },
    {
      "cell_type": "code",
      "source": [
        "import xgboost as xgb\n",
        "\n",
        "# 建立 XGBRegressor 模型\n",
        "model=xgb.XGBRegressor()\n",
        "# 使用訓練資料訓練模型\n",
        "model.fit(df_train,y_train)\n",
        "# 使用訓練資料預測\n",
        "y_pred=model.predict(df_test)\n",
        "print('model feature importances:',model.feature_importances_) \n",
        "print('Mean squared error: %.2f'\n",
        "      % mean_squared_error(y_test, y_pred))\n",
        "print('Mean absolute error: %.2f'\n",
        "      % mean_absolute_error(y_test, y_pred))\n",
        "print('Mean absolute percentange error: %.2f'\n",
        "      % mean_absolute_percentage_error(y_test, y_pred))\n",
        "print('Root Mean squared error: %.2f'\n",
        "      % sqrt(mean_squared_error(y_test, y_pred)))\n",
        "print('R squared value: %.2f'%r2_score(y_test, y_pred))"
      ],
      "metadata": {
        "colab": {
          "base_uri": "https://localhost:8080/"
        },
        "id": "I1ctNCbdkRfT",
        "outputId": "dff62711-67c8-4819-e615-f21cf67e55c1"
      },
      "execution_count": 36,
      "outputs": [
        {
          "output_type": "stream",
          "name": "stdout",
          "text": [
            "[07:37:33] WARNING: /workspace/src/objective/regression_obj.cu:152: reg:linear is now deprecated in favor of reg:squarederror.\n",
            "model feature importances: [0.1717986  0.09481196 0.         0.02904233 0.02724285 0.63494503\n",
            " 0.01555768 0.01375366 0.01284785]\n",
            "Mean squared error: 3509.24\n",
            "Mean absolute error: 43.88\n",
            "Mean absolute percentange error: 0.04\n",
            "Root Mean squared error: 59.24\n",
            "R squared value: 0.92\n"
          ]
        }
      ]
    },
    {
      "cell_type": "code",
      "source": [
        "df_train1=df_train[['CO(GT)','C6H6(GT)','PT08.S3(NOx)','PT08.S4(NO2)','PT08.S5(O3)','T','RH']]\n",
        "df_test1=df_test[['CO(GT)','C6H6(GT)','PT08.S3(NOx)','PT08.S4(NO2)','PT08.S5(O3)','T','RH']]\n",
        "model=xgb.XGBRegressor()\n",
        "model.fit(df_train1,y_train)\n",
        "# 使用訓練資料預測\n",
        "y_pred=model.predict(df_test1)\n",
        "print('model feature importances:',model.feature_importances_) \n",
        "print('Mean squared error: %.2f'\n",
        "      % mean_squared_error(y_test, y_pred))\n",
        "print('Mean absolute error: %.2f'\n",
        "      % mean_absolute_error(y_test, y_pred))\n",
        "print('Mean absolute percentange error: %.2f'\n",
        "      % mean_absolute_percentage_error(y_test, y_pred))\n",
        "print('Root Mean squared error: %.2f'\n",
        "      % sqrt(mean_squared_error(y_test, y_pred)))\n",
        "print('R squared value: %.2f'%r2_score(y_test, y_pred))"
      ],
      "metadata": {
        "colab": {
          "base_uri": "https://localhost:8080/"
        },
        "id": "U5hPHbEZtsaJ",
        "outputId": "e1e70ae0-49d6-4977-c9b6-42b43b93a62a"
      },
      "execution_count": 37,
      "outputs": [
        {
          "output_type": "stream",
          "name": "stdout",
          "text": [
            "[07:37:36] WARNING: /workspace/src/objective/regression_obj.cu:152: reg:linear is now deprecated in favor of reg:squarederror.\n",
            "model feature importances: [0.15769574 0.06744277 0.02659763 0.02315315 0.69872135 0.01441168\n",
            " 0.01197776]\n",
            "Mean squared error: 3672.50\n",
            "Mean absolute error: 44.99\n",
            "Mean absolute percentange error: 0.04\n",
            "Root Mean squared error: 60.60\n",
            "R squared value: 0.91\n"
          ]
        }
      ]
    },
    {
      "cell_type": "code",
      "source": [
        "model = RandomForestRegressor(n_estimators=10,random_state=1,n_jobs=-1)\n",
        "model.fit(df_train1,y_train)\n",
        "# 使用訓練資料預測\n",
        "y_pred=model.predict(df_test1)\n",
        "print('model feature importances:',model.feature_importances_) \n",
        "print('Mean squared error: %.2f'\n",
        "      % mean_squared_error(y_test, y_pred))\n",
        "print('Mean absolute error: %.2f'\n",
        "      % mean_absolute_error(y_test, y_pred))\n",
        "print('Mean absolute percentange error: %.2f'\n",
        "      % mean_absolute_percentage_error(y_test, y_pred))\n",
        "print('Root Mean squared error: %.2f'\n",
        "      % sqrt(mean_squared_error(y_test, y_pred)))\n",
        "print('R squared value: %.2f'%r2_score(y_test, y_pred))"
      ],
      "metadata": {
        "colab": {
          "base_uri": "https://localhost:8080/"
        },
        "id": "YBHFq5_4O4FB",
        "outputId": "9a7ddd8f-172b-42bd-a3be-16d4dbd2c4a2"
      },
      "execution_count": 38,
      "outputs": [
        {
          "output_type": "stream",
          "name": "stdout",
          "text": [
            "model feature importances: [0.08844051 0.07729774 0.07437211 0.05131866 0.6721306  0.02149773\n",
            " 0.01494265]\n",
            "Mean squared error: 3177.29\n",
            "Mean absolute error: 40.83\n",
            "Mean absolute percentange error: 0.04\n",
            "Root Mean squared error: 56.37\n",
            "R squared value: 0.92\n"
          ]
        }
      ]
    }
  ]
}